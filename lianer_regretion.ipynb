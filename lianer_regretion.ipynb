{
  "nbformat": 4,
  "nbformat_minor": 0,
  "metadata": {
    "colab": {
      "provenance": [],
      "authorship_tag": "ABX9TyNefcKbTM2A89pdJn3W/ZQB",
      "include_colab_link": true
    },
    "kernelspec": {
      "name": "python3",
      "display_name": "Python 3"
    },
    "language_info": {
      "name": "python"
    }
  },
  "cells": [
    {
      "cell_type": "markdown",
      "metadata": {
        "id": "view-in-github",
        "colab_type": "text"
      },
      "source": [
        "<a href=\"https://colab.research.google.com/github/esyakov/grokking_ML/blob/ch_3/lianer_regretion.ipynb\" target=\"_parent\"><img src=\"https://colab.research.google.com/assets/colab-badge.svg\" alt=\"Open In Colab\"/></a>"
      ]
    },
    {
      "cell_type": "code",
      "execution_count": null,
      "metadata": {
        "id": "STdYUFKM_PYz"
      },
      "outputs": [],
      "source": [
        "from matplotlib import pyplot as plt\n",
        "import numpy as np\n",
        "import random"
      ]
    },
    {
      "cell_type": "code",
      "source": [
        "def draw_line(slope, y_intercept, color='grey', linewidth=0.7, starting=0, ending=8):\n",
        "    x = np.linspace(starting, ending, 1000)\n",
        "    plt.plot(x, y_intercept + slope*x, linestyle='-', color=color, linewidth=linewidth)\n",
        "\n",
        "def plot_points(features, labels):\n",
        "    X = np.array(features)\n",
        "    y = np.array(labels)\n",
        "    plt.scatter(X, y)\n",
        "    plt.xlabel('number of rooms')\n",
        "    plt.ylabel('prices')"
      ],
      "metadata": {
        "id": "BexsgYnAAXRX"
      },
      "execution_count": null,
      "outputs": []
    },
    {
      "cell_type": "code",
      "source": [
        "#features = np.array([1,2,3,5,6,7])\n",
        "features = [1,2,3,5,6,7] # в функции plot_points они уже определяютяс как np.array\n",
        "#labels = np.array([155, 197, 244, 356,407,448])\n",
        "labels = [155, 197, 244, 356,407,448]\n",
        "print(features)\n",
        "print(labels)"
      ],
      "metadata": {
        "colab": {
          "base_uri": "https://localhost:8080/"
        },
        "collapsed": true,
        "id": "Mal-mPKABkNH",
        "outputId": "57d0dae5-faa2-4a0b-8f23-51111429389f"
      },
      "execution_count": null,
      "outputs": [
        {
          "output_type": "stream",
          "name": "stdout",
          "text": [
            "[1, 2, 3, 5, 6, 7]\n",
            "[155, 197, 244, 356, 407, 448]\n"
          ]
        }
      ]
    },
    {
      "cell_type": "code",
      "source": [
        "plot_points(features, labels)"
      ],
      "metadata": {
        "colab": {
          "base_uri": "https://localhost:8080/",
          "height": 449
        },
        "id": "N-au6IYUDt2h",
        "outputId": "a095c2b0-1b5e-4b70-d528-885a5af9922d"
      },
      "execution_count": null,
      "outputs": [
        {
          "output_type": "display_data",
          "data": {
            "text/plain": [
              "<Figure size 640x480 with 1 Axes>"
            ],
            "image/png": "[encoded data removed]"
          },
          "metadata": {}
        }
      ]
    }
  ]
}